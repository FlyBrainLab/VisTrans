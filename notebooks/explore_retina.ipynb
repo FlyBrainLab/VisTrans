{
 "cells": [
  {
   "cell_type": "code",
   "execution_count": null,
   "id": "magnetic-humanity",
   "metadata": {},
   "outputs": [],
   "source": [
    "%matplotlib inline\n",
    "import flybrainlab.circuit as circuit\n",
    "import vistrans.config as config\n",
    "import matplotlib.pyplot as plt"
   ]
  },
  {
   "cell_type": "code",
   "execution_count": null,
   "id": "excellent-provincial",
   "metadata": {},
   "outputs": [],
   "source": [
    "client = fbl.get_client()"
   ]
  },
  {
   "cell_type": "markdown",
   "id": "settled-opening",
   "metadata": {},
   "source": [
    "Display all photoreceptors"
   ]
  },
  {
   "cell_type": "code",
   "execution_count": null,
   "id": "productive-bangkok",
   "metadata": {},
   "outputs": [],
   "source": [
    "res = client.executeNLPquery('show all')"
   ]
  },
  {
   "cell_type": "markdown",
   "id": "heated-drill",
   "metadata": {},
   "source": [
    "Retrieve the circuit model linked to the photoreceptors"
   ]
  },
  {
   "cell_type": "code",
   "execution_count": null,
   "id": "jewish-wagner",
   "metadata": {},
   "outputs": [],
   "source": [
    "c = circuit.ExecutableCircuit(client, res, 'retina', '1.0')"
   ]
  },
  {
   "cell_type": "markdown",
   "id": "cloudy-defense",
   "metadata": {},
   "source": [
    "Disable all but R1 photoreceptors"
   ]
  },
  {
   "cell_type": "code",
   "execution_count": null,
   "id": "vocational-advertiser",
   "metadata": {},
   "outputs": [],
   "source": [
    "c.disable_neurons(['R{}-{}'.format(k, i) for i in range(721) for k in range(2,9)])"
   ]
  },
  {
   "cell_type": "markdown",
   "id": "hearing-fancy",
   "metadata": {},
   "source": [
    "Get photoreceptor parameters"
   ]
  },
  {
   "cell_type": "code",
   "execution_count": null,
   "id": "settled-guatemala",
   "metadata": {},
   "outputs": [],
   "source": [
    "photoreceptors = {rid: v for rid, v in c.graph.nodes(data=True) if v['class'] == 'PhotoreceptorModel' and v['uname'] in c.config['active']['neuron']}"
   ]
  },
  {
   "cell_type": "markdown",
   "id": "diagnostic-london",
   "metadata": {},
   "source": [
    "Specify input processor and what data to record (output processor)"
   ]
  },
  {
   "cell_type": "code",
   "execution_count": null,
   "id": "defensive-opposition",
   "metadata": {},
   "outputs": [],
   "source": [
    "input_processors = {'RET(R)': [{'class': 'RetinaInputIndividual',\n",
    "                            'name': 'RET',\n",
    "                            'module': 'vistrans.InputProcessors.RetinaInputIndividual', # this is where PB_InputProcessor should be imported from\n",
    "                            'input_config': config.Input().to_dict(),\n",
    "                            'photoreceptors': photoreceptors,\n",
    "                            'dt': 1e-4,\n",
    "                            'radius': 1.0,\n",
    "                            'input_file': 'retina_input.h5',\n",
    "                            'input_interval': 10}]\n",
    "                   }\n",
    "output_processors = {'RET(R)': [{'class': 'Record',\n",
    "                             'uid_dict': {'V': {'uids': None},\n",
    "                                          },\n",
    "                             'sample_interval': 10}\n",
    "                           ]\n",
    "                    }"
   ]
  },
  {
   "cell_type": "markdown",
   "id": "opening-kansas",
   "metadata": {},
   "source": [
    "Execute circuit"
   ]
  },
  {
   "cell_type": "code",
   "execution_count": null,
   "id": "approved-territory",
   "metadata": {},
   "outputs": [],
   "source": [
    "c.execute(input_processors = input_processors,\n",
    "          output_processors = output_processors,\n",
    "          steps = 10000, dt = 1e-4)"
   ]
  },
  {
   "cell_type": "markdown",
   "id": "documented-regulation",
   "metadata": {},
   "source": [
    "Results are automatically retrieved after simulation is complete. The following method reorganize the naming of inputs/outputs so they are easy to call"
   ]
  },
  {
   "cell_type": "code",
   "execution_count": null,
   "id": "reverse-purse",
   "metadata": {},
   "outputs": [],
   "source": [
    "result = c.get_result()"
   ]
  },
  {
   "cell_type": "markdown",
   "id": "united-hobby",
   "metadata": {},
   "source": [
    "Plot input and output of one of the photoreceptor (R1-0)"
   ]
  },
  {
   "cell_type": "code",
   "execution_count": null,
   "id": "brutal-least",
   "metadata": {},
   "outputs": [],
   "source": [
    "fig, ax = plt.subplots(2,1)\n",
    "ax[0].plot(result['input']['R1-0']['photon']['data'])\n",
    "ax[1].plot(result['output']['R1-0']['V']['data'])"
   ]
  }
 ],
 "metadata": {
  "kernelspec": {
   "display_name": "Python 3",
   "language": "python",
   "name": "python3"
  },
  "language_info": {
   "codemirror_mode": {
    "name": "ipython",
    "version": 3
   },
   "file_extension": ".py",
   "mimetype": "text/x-python",
   "name": "python",
   "nbconvert_exporter": "python",
   "pygments_lexer": "ipython3",
   "version": "3.7.9"
  }
 },
 "nbformat": 4,
 "nbformat_minor": 5
}
