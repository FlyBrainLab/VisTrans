{
 "cells": [
  {
   "cell_type": "code",
   "execution_count": null,
   "id": "tamil-coordinator",
   "metadata": {},
   "outputs": [],
   "source": [
    "import vistrans.config as config\n",
    "import vistrans.loader as loader"
   ]
  },
  {
   "cell_type": "code",
   "execution_count": null,
   "id": "flexible-trouble",
   "metadata": {},
   "outputs": [],
   "source": [
    "client = fbl.get_client()"
   ]
  },
  {
   "cell_type": "markdown",
   "id": "signed-maintenance",
   "metadata": {},
   "source": [
    "Create a retina configuration using all default values. For more information see the dataclass `vistrans.config.Retina`"
   ]
  },
  {
   "cell_type": "code",
   "execution_count": null,
   "id": "separated-cylinder",
   "metadata": {},
   "outputs": [],
   "source": [
    "retina_config = config.Retina()\n",
    "retina_config"
   ]
  },
  {
   "cell_type": "markdown",
   "id": "hazardous-jewel",
   "metadata": {},
   "source": [
    "Load the database with photoreceptors and corresponding circuit model."
   ]
  },
  {
   "cell_type": "code",
   "execution_count": null,
   "id": "criminal-teddy",
   "metadata": {},
   "outputs": [],
   "source": [
    "loader.load_retina(client, retina_config)"
   ]
  }
 ],
 "metadata": {
  "kernelspec": {
   "display_name": "Python 3",
   "language": "python",
   "name": "python3"
  },
  "language_info": {
   "codemirror_mode": {
    "name": "ipython",
    "version": 3
   },
   "file_extension": ".py",
   "mimetype": "text/x-python",
   "name": "python",
   "nbconvert_exporter": "python",
   "pygments_lexer": "ipython3",
   "version": "3.7.9"
  }
 },
 "nbformat": 4,
 "nbformat_minor": 5
}
